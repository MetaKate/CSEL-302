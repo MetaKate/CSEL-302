{
  "nbformat": 4,
  "nbformat_minor": 0,
  "metadata": {
    "colab": {
      "provenance": [],
      "authorship_tag": "ABX9TyMW18zc1PPUhnvdFf0Pwdc5",
      "include_colab_link": true
    },
    "kernelspec": {
      "name": "python3",
      "display_name": "Python 3"
    },
    "language_info": {
      "name": "python"
    }
  },
  "cells": [
    {
      "cell_type": "markdown",
      "metadata": {
        "id": "view-in-github",
        "colab_type": "text"
      },
      "source": [
        "<a href=\"https://colab.research.google.com/github/MetaKate/CSEL-302/blob/main/2B_MACASAET_MIDTERM.ipynb\" target=\"_parent\"><img src=\"https://colab.research.google.com/assets/colab-badge.svg\" alt=\"Open In Colab\"/></a>"
      ]
    },
    {
      "cell_type": "code",
      "execution_count": null,
      "metadata": {
        "id": "ScB1mpUtnmvo"
      },
      "outputs": [],
      "source": [
        "import pandas as pd\n",
        "import numpy as np\n",
        "import matplotlib.pyplot as plt\n",
        "from sklearn.model_selection import train_test_split\n",
        "from sklearn.linear_model import LinearRegression\n",
        "from sklearn.linear_model import LogisticRegression\n",
        "from sklearn.metrics import accuracy_score, precision_score, recall_score, f1_score, roc_auc_score, roc_curve, confusion_matrix\n",
        "from sklearn.metrics import mean_squared_error, r2_score"
      ]
    },
    {
      "cell_type": "code",
      "source": [
        "# Diabetes Dataset\n",
        "\n",
        "df = pd.read_csv('diabetes.csv')\n",
        "print(\"Dataset Information: \")\n",
        "print(df.info())"
      ],
      "metadata": {
        "id": "mGdbtTnDn5b0"
      },
      "execution_count": null,
      "outputs": []
    },
    {
      "cell_type": "markdown",
      "source": [
        "# **2. Dataset Preparation**\n",
        "\n",
        "The dataset has 768 entries with nine columns about diabetes. It includes details like Pregnancies, Glucose Levels, Blood Pressure, Skin Thickness, Insulin Levels, BMI, Diabetes Pedigree Function, Age and Outcome. The dependent variable, or the target variable, is \"Outcome.\" It represents whether a patient has diabetes or not. It's a binary variable, with 1 indicating the presence of diabetes and 0 indicating the absence. While the independent variables are the remaining features. The aim is to predict if someone has diabetes using linear and logistic regression. There's no missing data, and we don't know if any cleaning or fixing was done. Steps include checking the data, making new features if needed, picking and training models, checking how good they are, understanding the results, and making sure everything's correct."
      ],
      "metadata": {
        "id": "swLlYi-7oy1s"
      }
    },
    {
      "cell_type": "code",
      "source": [
        "# 3. Exploratory Data Analysis (EDA)\n",
        "\n",
        "# Summary statistics\n",
        "summary_stats = df.describe()\n",
        "print(\"Summary Statistics:\")\n",
        "print(summary_stats)"
      ],
      "metadata": {
        "id": "Fjj5J_PE-HLj"
      },
      "execution_count": null,
      "outputs": []
    },
    {
      "cell_type": "code",
      "source": [
        "# Probability distributions\n",
        "print(\"\\nProbability Distributions:\")\n",
        "for column in df.columns:\n",
        "    print(f\"\\n{column}:\")\n",
        "    print(df[column].value_counts(normalize=True))"
      ],
      "metadata": {
        "id": "0gzPekAeBsr0"
      },
      "execution_count": null,
      "outputs": []
    },
    {
      "cell_type": "code",
      "source": [
        "# Visualization - Histograms\n",
        "df.hist(figsize=(10, 8))\n",
        "plt.tight_layout()\n",
        "plt.show()"
      ],
      "metadata": {
        "id": "jkmC6bx1B02M"
      },
      "execution_count": null,
      "outputs": []
    },
    {
      "cell_type": "code",
      "source": [
        "# Visualization - Scatter plots\n",
        "pd.plotting.scatter_matrix(df, figsize=(12, 12))\n",
        "plt.show()"
      ],
      "metadata": {
        "id": "twhkWs7kEFUL"
      },
      "execution_count": null,
      "outputs": []
    },
    {
      "cell_type": "code",
      "source": [
        "#4. Linear Regression Model\n",
        "\n",
        "# Select independent variables (features) and the target variable (Outcome)\n",
        "X = df.drop(columns=['Outcome'])\n",
        "y = df['Outcome']"
      ],
      "metadata": {
        "id": "d27q-pRAEN62"
      },
      "execution_count": null,
      "outputs": []
    },
    {
      "cell_type": "code",
      "source": [
        "# Split the data into training and testing sets\n",
        "X_train, X_test, y_train, y_test = train_test_split(X, y, test_size=0.2, random_state=42)"
      ],
      "metadata": {
        "id": "P2PV39EXEeNr"
      },
      "execution_count": null,
      "outputs": []
    },
    {
      "cell_type": "code",
      "source": [
        "# Fit the linear regression model\n",
        "model = LinearRegression()\n",
        "model.fit(X_train, y_train)"
      ],
      "metadata": {
        "id": "tmKjCgAoEh8E"
      },
      "execution_count": null,
      "outputs": []
    },
    {
      "cell_type": "code",
      "source": [
        "# Coefficients and intercept\n",
        "coefficients = model.coef_\n",
        "intercept = model.intercept_\n",
        "\n",
        "print(\"Coefficients:\", coefficients)\n",
        "print(\"Intercept:\", intercept)"
      ],
      "metadata": {
        "id": "gMAHtqyiEmj5"
      },
      "execution_count": null,
      "outputs": []
    },
    {
      "cell_type": "code",
      "source": [
        "# Predict on the test set\n",
        "y_pred = model.predict(X_test)"
      ],
      "metadata": {
        "id": "klbXMV1rFBJy"
      },
      "execution_count": null,
      "outputs": []
    },
    {
      "cell_type": "code",
      "source": [
        "# Evaluation metrics\n",
        "r_squared = r2_score(y_test, y_pred)\n",
        "mse = mean_squared_error(y_test, y_pred)\n",
        "rmse = np.sqrt(mse)\n",
        "\n",
        "print(\"R-squared:\", r_squared)\n",
        "print(\"Mean Squared Error (MSE):\", mse)\n",
        "print(\"Root Mean Squared Error (RMSE):\", rmse)"
      ],
      "metadata": {
        "id": "LuFhv--_FEft"
      },
      "execution_count": null,
      "outputs": []
    },
    {
      "cell_type": "code",
      "source": [
        "# 5. Logistic Regression Model\n",
        "\n",
        "# Build the Logistic Regression model\n",
        "model = LogisticRegression()\n",
        "model.fit(X_train, y_train)"
      ],
      "metadata": {
        "id": "PYP5XcRoJZ0Q"
      },
      "execution_count": null,
      "outputs": []
    },
    {
      "cell_type": "code",
      "source": [
        "# Coefficients and intercept\n",
        "coefficients = model.coef_[0]\n",
        "intercept = model.intercept_[0]\n",
        "\n",
        "print(\"Coefficients:\", coefficients)\n",
        "print(\"Intercept:\", intercept)"
      ],
      "metadata": {
        "id": "mQIpp1ODJdY7"
      },
      "execution_count": null,
      "outputs": []
    },
    {
      "cell_type": "code",
      "source": [
        "# Predict on the test set\n",
        "y_pred = model.predict(X_test)"
      ],
      "metadata": {
        "id": "9eP9AlrxKAxm"
      },
      "execution_count": null,
      "outputs": []
    },
    {
      "cell_type": "code",
      "source": [
        "# Model evaluation\n",
        "accuracy = accuracy_score(y_test, y_pred)\n",
        "precision = precision_score(y_test, y_pred)\n",
        "recall = recall_score(y_test, y_pred)\n",
        "f1 = f1_score(y_test, y_pred)\n",
        "roc_auc = roc_auc_score(y_test, model.predict_proba(X_test)[:,1])\n",
        "\n",
        "print(\"Accuracy:\", accuracy)\n",
        "print(\"Precision:\", precision)\n",
        "print(\"Recall:\", recall)\n",
        "print(\"F1 Score:\", f1)\n",
        "print(\"ROC AUC:\", roc_auc)"
      ],
      "metadata": {
        "id": "5s3gOOhbKC8I"
      },
      "execution_count": null,
      "outputs": []
    },
    {
      "cell_type": "code",
      "source": [
        "# Plot ROC Curve\n",
        "fpr, tpr, thresholds = roc_curve(y_test, model.predict_proba(X_test)[:,1])\n",
        "plt.plot(fpr, tpr, label='ROC Curve (AUC = {:.2f})'.format(roc_auc))\n",
        "plt.plot([0, 1], [0, 1], 'k--')\n",
        "plt.xlabel('False Positive Rate')\n",
        "plt.ylabel('True Positive Rate')\n",
        "plt.title('Receiver Operating Characteristic (ROC) Curve')\n",
        "plt.legend(loc='lower right')\n",
        "plt.show()"
      ],
      "metadata": {
        "id": "egPbbEawKvg1"
      },
      "execution_count": null,
      "outputs": []
    },
    {
      "cell_type": "code",
      "source": [
        "# Confusion Matrix\n",
        "conf_matrix = confusion_matrix(y_test, y_pred)\n",
        "print(\"Confusion Matrix:\")\n",
        "print(conf_matrix)"
      ],
      "metadata": {
        "id": "Nk5s1j8iK1Y1"
      },
      "execution_count": null,
      "outputs": []
    },
    {
      "cell_type": "code",
      "source": [
        "# 6. Model Comparison and Selection\n",
        "\n",
        "# Performance metrics for Linear Regression\n",
        "linear_regression_metrics = {\n",
        "    \"R-squared\": r_squared,\n",
        "    \"Mean Squared Error (MSE)\": mse,\n",
        "    \"Root Mean Squared Error (RMSE)\": rmse\n",
        "}\n",
        "\n",
        "# Performance metrics for Logistic Regression\n",
        "logistic_regression_metrics = {\n",
        "    \"Accuracy\": accuracy,\n",
        "    \"Precision\": precision,\n",
        "    \"Recall\": recall,\n",
        "    \"F1 Score\": f1,\n",
        "    \"ROC AUC\": roc_auc\n",
        "}"
      ],
      "metadata": {
        "id": "Bh6R161jLKxp"
      },
      "execution_count": null,
      "outputs": []
    },
    {
      "cell_type": "code",
      "source": [
        "# Print performance metrics for both models\n",
        "print(\"Linear Regression Metrics:\")\n",
        "for metric, value in linear_regression_metrics.items():\n",
        "    print(f\"{metric}: {value}\")\n",
        "\n",
        "print(\"\\nLogistic Regression Metrics:\")\n",
        "for metric, value in logistic_regression_metrics.items():\n",
        "    print(f\"{metric}: {value}\")\n",
        "\n",
        "# Decision-making process\n",
        "print(\"\\nDecision-making Process:\")\n",
        "print(\"Consider Linear Regression for predicting continuous outcomes, such as disease progression, where the relationship between independent and dependent variables is linear.\")\n",
        "print(\"Consider Logistic Regression for binary classification problems, like predicting disease presence or absence, where the target variable is categorical and the relationship between features and outcome is non-linear.\")\n",
        "print(\"Choose the model based on the problem at hand, considering factors like model accuracy, interpretability, and assumptions. Linear Regression is suitable for predicting continuous outcomes, while Logistic Regression is more appropriate for classification tasks with binary outcomes.\")"
      ],
      "metadata": {
        "colab": {
          "base_uri": "https://localhost:8080/"
        },
        "id": "65ktUYkyLX_A",
        "outputId": "34d4e021-0f99-4e3a-8ae6-b26003bf57e5"
      },
      "execution_count": null,
      "outputs": [
        {
          "output_type": "stream",
          "name": "stdout",
          "text": [
            "Linear Regression Metrics:\n",
            "R-squared: 0.25500281176741757\n",
            "Mean Squared Error (MSE): 0.17104527280850104\n",
            "Root Mean Squared Error (RMSE): 0.4135761995189049\n",
            "\n",
            "Logistic Regression Metrics:\n",
            "Accuracy: 0.7467532467532467\n",
            "Precision: 0.6379310344827587\n",
            "Recall: 0.6727272727272727\n",
            "F1 Score: 0.6548672566371682\n",
            "ROC AUC: 0.8150596877869605\n",
            "\n",
            "Decision-making Process:\n",
            "Consider Linear Regression for predicting continuous outcomes, such as disease progression, where the relationship between independent and dependent variables is linear.\n",
            "Consider Logistic Regression for binary classification problems, like predicting disease presence or absence, where the target variable is categorical and the relationship between features and outcome is non-linear.\n",
            "Choose the model based on the problem at hand, considering factors like model accuracy, interpretability, and assumptions. Linear Regression is suitable for predicting continuous outcomes, while Logistic Regression is more appropriate for classification tasks with binary outcomes.\n"
          ]
        }
      ]
    },
    {
      "cell_type": "markdown",
      "source": [
        "# **7. Conclusion and Insights**\n",
        "\n",
        "In this case study, we utilized statistical and machine learning methods to analyze a dataset and make data-driven decisions. The Logistic Regression model demonstrated effectiveness in predicting the presence or absence of diabetes, showcasing reasonable accuracy, precision, and recall. This highlights the significance of employing appropriate modeling techniques for specific prediction tasks. The application of these models extends beyond healthcare to various fields such as finance, marketing, and social sciences. However, it's essential to understand the underlying assumptions and limitations of the models. For instance, Logistic Regression assumes a linear relationship between features and the log-odds of the outcome, while Linear Regression assumes a linear relationship between independent and dependent variables. Acknowledging these assumptions helps in interpreting model outputs accurately and avoiding potential biases in decision-making. Overall, this case study underscores the importance of leveraging statistical and machine learning tools to derive actionable insights from data while being mindful of model constraints and uncertainties."
      ],
      "metadata": {
        "id": "8hi33E88MglQ"
      }
    },
    {
      "cell_type": "markdown",
      "source": [
        "# **8. References**\n",
        "\n",
        "import pandas as pd\n",
        "\n",
        "import numpy as np\n",
        "\n",
        "import matplotlib.pyplot as plt\n",
        "\n",
        "from sklearn.model_selection import train_test_split\n",
        "\n",
        "from sklearn.preprocessing import LabelEncoder\n",
        "\n",
        "from sklearn.linear_model import LinearRegression\n",
        "\n",
        "from sklearn.linear_model import LogisticRegression\n",
        "\n",
        "from sklearn.metrics import accuracy_score, precision_score, recall_score, f1_score, roc_auc_score, roc_curve, confusion_matrix\n",
        "\n",
        "from sklearn.metrics import mean_squared_error, r2_score"
      ],
      "metadata": {
        "id": "Nk70CqoMMqvg"
      }
    }
  ]
}