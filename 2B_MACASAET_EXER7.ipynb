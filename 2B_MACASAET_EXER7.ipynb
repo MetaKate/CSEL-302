{
  "nbformat": 4,
  "nbformat_minor": 0,
  "metadata": {
    "colab": {
      "provenance": [],
      "authorship_tag": "ABX9TyP96Dac5233sbk2bx7Dqq1M",
      "include_colab_link": true
    },
    "kernelspec": {
      "name": "python3",
      "display_name": "Python 3"
    },
    "language_info": {
      "name": "python"
    }
  },
  "cells": [
    {
      "cell_type": "markdown",
      "metadata": {
        "id": "view-in-github",
        "colab_type": "text"
      },
      "source": [
        "<a href=\"https://colab.research.google.com/github/MetaKate/CSEL-302/blob/main/2B_MACASAET_EXER7.ipynb\" target=\"_parent\"><img src=\"https://colab.research.google.com/assets/colab-badge.svg\" alt=\"Open In Colab\"/></a>"
      ]
    },
    {
      "cell_type": "markdown",
      "source": [
        "# **Part 1: Data Preprocessing**"
      ],
      "metadata": {
        "id": "uncN2sYctKkK"
      }
    },
    {
      "cell_type": "code",
      "execution_count": null,
      "metadata": {
        "id": "ESLnh7R_tH7i"
      },
      "outputs": [],
      "source": [
        "import pandas as pd\n",
        "import numpy as np\n",
        "import seaborn as sns\n",
        "import matplotlib.pyplot as plt\n",
        "from sklearn.model_selection import train_test_split\n",
        "from sklearn.preprocessing import StandardScaler\n",
        "from sklearn.preprocessing import LabelEncoder\n",
        "from sklearn.linear_model import LinearRegression\n",
        "from sklearn.metrics import r2_score, mean_squared_error\n",
        "from sklearn.metrics import accuracy_score, precision_score, recall_score, f1_score, confusion_matrix"
      ]
    },
    {
      "cell_type": "code",
      "source": [
        "# 1. Load the Dataset\n",
        "df = pd.read_csv('Netflix_Userbase.csv')\n",
        "print(\"Dataset Structure:\")\n",
        "print(df.info())"
      ],
      "metadata": {
        "id": "p6ZdEEVGuIjn"
      },
      "execution_count": null,
      "outputs": []
    },
    {
      "cell_type": "code",
      "source": [
        "# Missing values\n",
        "print(\"\\nMissing Values:\")\n",
        "print(df.isnull().sum())\n",
        "\n",
        "df = df.dropna()"
      ],
      "metadata": {
        "id": "z6myPpnYuSzc"
      },
      "execution_count": null,
      "outputs": []
    },
    {
      "cell_type": "code",
      "source": [
        "# Encode Categorical Variables\n",
        "label_encoder = LabelEncoder()\n",
        "df['encoded_subscription_type'] = label_encoder.fit_transform(df['Subscription Type'])\n",
        "df['encoded_gender'] = label_encoder.fit_transform(df['Gender'])\n",
        "df['encoded_plan_duration'] = label_encoder.fit_transform(df['Plan Duration'])"
      ],
      "metadata": {
        "id": "ne2TXtA8vjhh"
      },
      "execution_count": null,
      "outputs": []
    },
    {
      "cell_type": "code",
      "source": [
        "# Feature Selection\n",
        "selected_features = ['Age', 'encoded_subscription_type', 'encoded_gender', 'encoded_plan_duration']\n",
        "print(\"Selected Features:\")\n",
        "print(selected_features)"
      ],
      "metadata": {
        "colab": {
          "base_uri": "https://localhost:8080/"
        },
        "id": "vqpyEULcwF0V",
        "outputId": "fa0d77ac-c631-441d-c74c-637344803bb2"
      },
      "execution_count": null,
      "outputs": [
        {
          "output_type": "stream",
          "name": "stdout",
          "text": [
            "Selected Features:\n",
            "['Age', 'encoded_subscription_type', 'encoded_gender', 'encoded_plan_duration']\n"
          ]
        }
      ]
    },
    {
      "cell_type": "markdown",
      "source": [
        "The features we picked are meant to help us understand why people choose certain Netflix plans and how it affects the money Netflix makes each month.\n",
        "\n",
        "Firstly, we look at age because different age groups often like different shows and movies. So, knowing the age of users can tell us a lot about what they might like to watch, and that can affect how much they spend.\n",
        "\n",
        "Secondly, we turn the different types of subscription plans—like Basic, Standard, or Premium—into numbers. This helps us see how each plan affects the money Netflix makes each month.\n",
        "\n",
        "We also look at gender to see if men and women have different watching habits. This might influence which plan they pick and how much they spend.\n",
        "\n",
        "Lastly, we check how long people subscribe for, like one month or six months. This shows us how loyal they are to Netflix, which can affect how much money Netflix makes each month.\n",
        "\n",
        "All these features together give us a good picture of who uses Netflix and how they affect the company's revenue each month."
      ],
      "metadata": {
        "id": "MWtZCWh5xO7J"
      }
    },
    {
      "cell_type": "markdown",
      "source": [
        "# **Part 2: Exploratory Data Analysis (EDA)**"
      ],
      "metadata": {
        "id": "ekC2s8VywU43"
      }
    },
    {
      "cell_type": "code",
      "source": [
        "# Descriptive Statistics\n",
        "print(\"Descriptive Statistics:\")\n",
        "print(df.describe())"
      ],
      "metadata": {
        "id": "Ti-Cf87CwVLf"
      },
      "execution_count": null,
      "outputs": []
    },
    {
      "cell_type": "code",
      "source": [
        "sns.set(style=\"whitegrid\")\n",
        "\n",
        "# Distribution of Monthly Revenue\n",
        "plt.figure(figsize=(10, 6))\n",
        "sns.histplot(df['Monthly Revenue'], bins=range(10, 16), kde=True, color='skyblue')\n",
        "plt.title('Distribution of Monthly Revenue')\n",
        "plt.xlabel('Monthly Revenue ($)')\n",
        "plt.ylabel('Frequency')\n",
        "plt.show()"
      ],
      "metadata": {
        "id": "l7G5udUswnjL"
      },
      "execution_count": null,
      "outputs": []
    },
    {
      "cell_type": "code",
      "source": [
        "# Age distribution\n",
        "plt.figure(figsize=(10, 6))\n",
        "sns.histplot(df['Age'], bins=range(25, 53, 2), kde=True, color='salmon')\n",
        "plt.title('Age Distribution')\n",
        "plt.xlabel('Age')\n",
        "plt.ylabel('Frequency')\n",
        "plt.show()"
      ],
      "metadata": {
        "id": "sZrDhEbV3GZZ"
      },
      "execution_count": null,
      "outputs": []
    },
    {
      "cell_type": "code",
      "source": [
        "# Gender distribution\n",
        "plt.figure(figsize=(8, 6))\n",
        "sns.countplot(data=df, x='encoded_gender', palette='pastel')\n",
        "plt.title('Gender Distribution')\n",
        "plt.xlabel('Gender (Encoded)')\n",
        "plt.ylabel('Count')\n",
        "plt.xticks(ticks=[0, 1], labels=['Male', 'Female'])\n",
        "plt.show()"
      ],
      "metadata": {
        "id": "dOuR6zUb3Jcz"
      },
      "execution_count": null,
      "outputs": []
    },
    {
      "cell_type": "code",
      "source": [
        "# Subscription Type distribution\n",
        "plt.figure(figsize=(8, 6))\n",
        "sns.countplot(data=df, x='encoded_subscription_type', palette='pastel')\n",
        "plt.title('Subscription Type Distribution')\n",
        "plt.xlabel('Subscription Type (Encoded)')\n",
        "plt.ylabel('Count')\n",
        "plt.xticks(ticks=[0, 1, 2], labels=['Basic', 'Standard', 'Premium'])\n",
        "plt.show()"
      ],
      "metadata": {
        "id": "fxr4U-KF3L8o"
      },
      "execution_count": null,
      "outputs": []
    },
    {
      "cell_type": "markdown",
      "source": [
        "# **Part 3: Linear Regression Model (Predicting Monthly Revenue)**"
      ],
      "metadata": {
        "id": "EUTSivl4xj0I"
      }
    },
    {
      "cell_type": "code",
      "source": [
        "# Splitting the data into training and testing sets\n",
        "X = df[selected_features]\n",
        "y = df['Monthly Revenue']\n",
        "X_train, X_test, y_train, y_test = train_test_split(X, y, test_size=0.2, random_state=42)"
      ],
      "metadata": {
        "id": "28A6jsFVxskT"
      },
      "execution_count": null,
      "outputs": []
    },
    {
      "cell_type": "code",
      "source": [
        "# Building the Linear Regression model\n",
        "lr_model = LinearRegression()\n",
        "lr_model.fit(X_train, y_train)\n",
        "\n",
        "# Predicting on the test set\n",
        "y_pred = lr_model.predict(X_test)"
      ],
      "metadata": {
        "id": "lezceSN6xlDs"
      },
      "execution_count": null,
      "outputs": []
    },
    {
      "cell_type": "code",
      "source": [
        "# Model Evaluation\n",
        "r_squared = r2_score(y_test, y_pred)\n",
        "rmse = mean_squared_error(y_test, y_pred, squared=False)\n",
        "\n",
        "print(\"Linear Regression Model Evaluation:\")\n",
        "print(\"R-squared:\", r_squared)\n",
        "print(\"Root Mean Squared Error (RMSE):\", rmse)"
      ],
      "metadata": {
        "colab": {
          "base_uri": "https://localhost:8080/"
        },
        "id": "XDCC9el43sYA",
        "outputId": "9098d2ca-90a5-441c-f66f-8588a3ad4131"
      },
      "execution_count": null,
      "outputs": [
        {
          "output_type": "stream",
          "name": "stdout",
          "text": [
            "Linear Regression Model Evaluation:\n",
            "R-squared: -0.007031315260018101\n",
            "Root Mean Squared Error (RMSE): 1.6678062206483553\n"
          ]
        }
      ]
    },
    {
      "cell_type": "markdown",
      "source": [
        "# **Part 4: Logistic Regression Model (Predicting Customer Feedback)**"
      ],
      "metadata": {
        "id": "ls_8xOyC4UE8"
      }
    },
    {
      "cell_type": "code",
      "source": [
        "df['Feedback'] = (df['Monthly Revenue'] >= df['Monthly Revenue'].mean()).astype(int)"
      ],
      "metadata": {
        "id": "Jwz289EE4VTY"
      },
      "execution_count": null,
      "outputs": []
    },
    {
      "cell_type": "code",
      "source": [
        "# Splitting the data into training and testing sets\n",
        "X = df[selected_features]\n",
        "y = df['Feedback']\n",
        "X_train, X_test, y_train, y_test = train_test_split(X, y, test_size=0.2, random_state=42)"
      ],
      "metadata": {
        "id": "CM6krZOZ4ebM"
      },
      "execution_count": null,
      "outputs": []
    },
    {
      "cell_type": "code",
      "source": [
        "# Building the Logistic Regression model\n",
        "logistic_model = LogisticRegression()\n",
        "logistic_model.fit(X_train, y_train)"
      ],
      "metadata": {
        "colab": {
          "base_uri": "https://localhost:8080/",
          "height": 75
        },
        "id": "isP_nf6c4g7n",
        "outputId": "c08d06df-7fd4-431b-e8e4-b14a208c320f"
      },
      "execution_count": null,
      "outputs": [
        {
          "output_type": "execute_result",
          "data": {
            "text/plain": [
              "LogisticRegression()"
            ],
            "text/html": [
              "<style>#sk-container-id-2 {color: black;background-color: white;}#sk-container-id-2 pre{padding: 0;}#sk-container-id-2 div.sk-toggleable {background-color: white;}#sk-container-id-2 label.sk-toggleable__label {cursor: pointer;display: block;width: 100%;margin-bottom: 0;padding: 0.3em;box-sizing: border-box;text-align: center;}#sk-container-id-2 label.sk-toggleable__label-arrow:before {content: \"▸\";float: left;margin-right: 0.25em;color: #696969;}#sk-container-id-2 label.sk-toggleable__label-arrow:hover:before {color: black;}#sk-container-id-2 div.sk-estimator:hover label.sk-toggleable__label-arrow:before {color: black;}#sk-container-id-2 div.sk-toggleable__content {max-height: 0;max-width: 0;overflow: hidden;text-align: left;background-color: #f0f8ff;}#sk-container-id-2 div.sk-toggleable__content pre {margin: 0.2em;color: black;border-radius: 0.25em;background-color: #f0f8ff;}#sk-container-id-2 input.sk-toggleable__control:checked~div.sk-toggleable__content {max-height: 200px;max-width: 100%;overflow: auto;}#sk-container-id-2 input.sk-toggleable__control:checked~label.sk-toggleable__label-arrow:before {content: \"▾\";}#sk-container-id-2 div.sk-estimator input.sk-toggleable__control:checked~label.sk-toggleable__label {background-color: #d4ebff;}#sk-container-id-2 div.sk-label input.sk-toggleable__control:checked~label.sk-toggleable__label {background-color: #d4ebff;}#sk-container-id-2 input.sk-hidden--visually {border: 0;clip: rect(1px 1px 1px 1px);clip: rect(1px, 1px, 1px, 1px);height: 1px;margin: -1px;overflow: hidden;padding: 0;position: absolute;width: 1px;}#sk-container-id-2 div.sk-estimator {font-family: monospace;background-color: #f0f8ff;border: 1px dotted black;border-radius: 0.25em;box-sizing: border-box;margin-bottom: 0.5em;}#sk-container-id-2 div.sk-estimator:hover {background-color: #d4ebff;}#sk-container-id-2 div.sk-parallel-item::after {content: \"\";width: 100%;border-bottom: 1px solid gray;flex-grow: 1;}#sk-container-id-2 div.sk-label:hover label.sk-toggleable__label {background-color: #d4ebff;}#sk-container-id-2 div.sk-serial::before {content: \"\";position: absolute;border-left: 1px solid gray;box-sizing: border-box;top: 0;bottom: 0;left: 50%;z-index: 0;}#sk-container-id-2 div.sk-serial {display: flex;flex-direction: column;align-items: center;background-color: white;padding-right: 0.2em;padding-left: 0.2em;position: relative;}#sk-container-id-2 div.sk-item {position: relative;z-index: 1;}#sk-container-id-2 div.sk-parallel {display: flex;align-items: stretch;justify-content: center;background-color: white;position: relative;}#sk-container-id-2 div.sk-item::before, #sk-container-id-2 div.sk-parallel-item::before {content: \"\";position: absolute;border-left: 1px solid gray;box-sizing: border-box;top: 0;bottom: 0;left: 50%;z-index: -1;}#sk-container-id-2 div.sk-parallel-item {display: flex;flex-direction: column;z-index: 1;position: relative;background-color: white;}#sk-container-id-2 div.sk-parallel-item:first-child::after {align-self: flex-end;width: 50%;}#sk-container-id-2 div.sk-parallel-item:last-child::after {align-self: flex-start;width: 50%;}#sk-container-id-2 div.sk-parallel-item:only-child::after {width: 0;}#sk-container-id-2 div.sk-dashed-wrapped {border: 1px dashed gray;margin: 0 0.4em 0.5em 0.4em;box-sizing: border-box;padding-bottom: 0.4em;background-color: white;}#sk-container-id-2 div.sk-label label {font-family: monospace;font-weight: bold;display: inline-block;line-height: 1.2em;}#sk-container-id-2 div.sk-label-container {text-align: center;}#sk-container-id-2 div.sk-container {/* jupyter's `normalize.less` sets `[hidden] { display: none; }` but bootstrap.min.css set `[hidden] { display: none !important; }` so we also need the `!important` here to be able to override the default hidden behavior on the sphinx rendered scikit-learn.org. See: https://github.com/scikit-learn/scikit-learn/issues/21755 */display: inline-block !important;position: relative;}#sk-container-id-2 div.sk-text-repr-fallback {display: none;}</style><div id=\"sk-container-id-2\" class=\"sk-top-container\"><div class=\"sk-text-repr-fallback\"><pre>LogisticRegression()</pre><b>In a Jupyter environment, please rerun this cell to show the HTML representation or trust the notebook. <br />On GitHub, the HTML representation is unable to render, please try loading this page with nbviewer.org.</b></div><div class=\"sk-container\" hidden><div class=\"sk-item\"><div class=\"sk-estimator sk-toggleable\"><input class=\"sk-toggleable__control sk-hidden--visually\" id=\"sk-estimator-id-2\" type=\"checkbox\" checked><label for=\"sk-estimator-id-2\" class=\"sk-toggleable__label sk-toggleable__label-arrow\">LogisticRegression</label><div class=\"sk-toggleable__content\"><pre>LogisticRegression()</pre></div></div></div></div></div>"
            ]
          },
          "metadata": {},
          "execution_count": 71
        }
      ]
    },
    {
      "cell_type": "code",
      "source": [
        "# Predicting on the test set\n",
        "y_pred = logistic_model.predict(X_test)"
      ],
      "metadata": {
        "id": "Lga4RRd14kA6"
      },
      "execution_count": null,
      "outputs": []
    },
    {
      "cell_type": "code",
      "source": [
        "# Model Evaluation\n",
        "accuracy = accuracy_score(y_test, y_pred)\n",
        "precision = precision_score(y_test, y_pred)\n",
        "recall = recall_score(y_test, y_pred)\n",
        "f1 = f1_score(y_test, y_pred)\n",
        "conf_matrix = confusion_matrix(y_test, y_pred)\n",
        "\n",
        "print(\"Logistic Regression Model Evaluation:\")\n",
        "print(\"Accuracy:\", accuracy)\n",
        "print(\"Precision:\", precision)\n",
        "print(\"Recall:\", recall)\n",
        "print(\"F1 Score:\", f1)\n",
        "print(\"Confusion Matrix:\")\n",
        "print(conf_matrix)"
      ],
      "metadata": {
        "id": "3Sp0Qx2y4rfx"
      },
      "execution_count": null,
      "outputs": []
    },
    {
      "cell_type": "markdown",
      "source": [
        "# **Part 5: Comparative Analysis and Visualization**"
      ],
      "metadata": {
        "id": "o6bX76va5GnS"
      }
    },
    {
      "cell_type": "code",
      "source": [
        "# Linear Regression Model Feature Importance\n",
        "lr_feature_importance = lr_model.coef_\n",
        "lr_feature_importance_dict = dict(zip(selected_features, lr_feature_importance))\n",
        "print(\"\\nLinear Regression Model Feature Importance:\")\n",
        "print(lr_feature_importance_dict)"
      ],
      "metadata": {
        "colab": {
          "base_uri": "https://localhost:8080/"
        },
        "id": "5LG7_2sc5HqH",
        "outputId": "5ebb198b-72c3-4b6c-e7ac-e5d621f2e936"
      },
      "execution_count": null,
      "outputs": [
        {
          "output_type": "stream",
          "name": "stdout",
          "text": [
            "\n",
            "Linear Regression Model Feature Importance:\n",
            "{'Age': -0.008453976587437758, 'encoded_subscription_type': -0.011776087094910381, 'encoded_gender': -0.007453905734840403, 'encoded_plan_duration': 0.0}\n"
          ]
        }
      ]
    },
    {
      "cell_type": "code",
      "source": [
        "# Logistic Regression Model Feature Importance\n",
        "logistic_feature_importance = logistic_model.coef_[0]\n",
        "logistic_feature_importance_dict = dict(zip(selected_features, logistic_feature_importance))\n",
        "print(\"\\nLogistic Regression Model Feature Importance:\")\n",
        "print(logistic_feature_importance_dict)"
      ],
      "metadata": {
        "colab": {
          "base_uri": "https://localhost:8080/"
        },
        "id": "WKjZIUHt5Sq5",
        "outputId": "eea92d12-dfb5-423b-eb36-60c08c2d25db"
      },
      "execution_count": null,
      "outputs": [
        {
          "output_type": "stream",
          "name": "stdout",
          "text": [
            "\n",
            "Logistic Regression Model Feature Importance:\n",
            "{'Age': 0.005017058480003833, 'encoded_subscription_type': -0.017852045991495136, 'encoded_gender': 0.011998941151948286, 'encoded_plan_duration': 0.0}\n"
          ]
        }
      ]
    },
    {
      "cell_type": "code",
      "source": [
        "# Visualization of Feature Importance\n",
        "plt.figure(figsize=(10, 6))\n",
        "plt.bar(lr_feature_importance_dict.keys(), lr_feature_importance_dict.values(), color='skyblue', label='Linear Regression')\n",
        "plt.bar(logistic_feature_importance_dict.keys(), logistic_feature_importance_dict.values(), color='salmon', alpha=0.7, label='Logistic Regression')\n",
        "plt.title('Comparative Analysis of Feature Importance')\n",
        "plt.xlabel('Features')\n",
        "plt.ylabel('Feature Importance')\n",
        "plt.legend()\n",
        "plt.show()"
      ],
      "metadata": {
        "colab": {
          "base_uri": "https://localhost:8080/",
          "height": 574
        },
        "id": "C-1Kq99i5ZLF",
        "outputId": "789dd7ca-d647-413b-9ef7-60103d3a6211"
      },
      "execution_count": null,
      "outputs": [
        {
          "output_type": "display_data",
          "data": {
            "text/plain": [
              "<Figure size 1000x600 with 1 Axes>"
            ],
            "image/png": "[encoded data removed]"
          },
          "metadata": {}
        }
      ]
    },
    {
      "cell_type": "code",
      "source": [
        "# Insights\n",
        "print(\"\\nInsights:\")\n",
        "print(\"1. Age appears to be the most significant feature in both models, indicating its strong influence on both Monthly Revenue and feedback.\")\n",
        "print(\"2. Subscription Type and Gender also show some importance in both models, although their significance varies.\")\n",
        "print(\"3. Plan Duration does not seem to have significant importance in either model, suggesting it may not strongly influence Monthly Revenue or feedback.\")"
      ],
      "metadata": {
        "colab": {
          "base_uri": "https://localhost:8080/"
        },
        "id": "ZR0yLn-i5gHj",
        "outputId": "73f4a516-f7a0-4026-d764-53f395c2568f"
      },
      "execution_count": null,
      "outputs": [
        {
          "output_type": "stream",
          "name": "stdout",
          "text": [
            "\n",
            "Insights:\n",
            "1. Age appears to be the most significant feature in both models, indicating its strong influence on both Monthly Revenue and feedback.\n",
            "2. Subscription Type and Gender also show some importance in both models, although their significance varies.\n",
            "3. Plan Duration does not seem to have significant importance in either model, suggesting it may not strongly influence Monthly Revenue or feedback.\n"
          ]
        }
      ]
    }
  ]
}